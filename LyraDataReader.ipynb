{
  "nbformat": 4,
  "nbformat_minor": 0,
  "metadata": {
    "colab": {
      "name": "LyraDataReader.ipynb",
      "provenance": [],
      "authorship_tag": "ABX9TyPlTFq0H/w22y60VzRHLMPM",
      "include_colab_link": true
    },
    "kernelspec": {
      "name": "python3",
      "display_name": "Python 3"
    },
    "language_info": {
      "name": "python"
    }
  },
  "cells": [
    {
      "cell_type": "markdown",
      "metadata": {
        "id": "view-in-github",
        "colab_type": "text"
      },
      "source": [
        "<a href=\"https://colab.research.google.com/github/Pretorian29/Machine-Learning-Repos/blob/main/LyraDataReader.ipynb\" target=\"_parent\"><img src=\"https://colab.research.google.com/assets/colab-badge.svg\" alt=\"Open In Colab\"/></a>"
      ]
    },
    {
      "cell_type": "code",
      "source": [
        "\"\"\"\n",
        "Script 1\n",
        "\n",
        "XML reader and extractor code\n",
        "\n",
        "1. Reads the data in XML file\n",
        "2. Extracts the data required for the X,Y training of Lyra\n",
        "3. Stores the result in two separated dataframes\n",
        "4. Export the results in two CSV files\n",
        "\n",
        "Paola Montoya 2021\n",
        "\"\"\"\n",
        "#                                                       Libraries\n",
        "#------------------------------------------------------------------\n",
        "from bs4 import BeautifulSoup \n",
        "import pandas as pd\n",
        "#import datetime\n",
        "from datetime import datetime\n",
        "\n",
        "pd.set_option('display.max_columns', None) # displays max num of columns\n",
        "start = datetime.now() # To set a timer for the process\n",
        "\n",
        "print('\\n1. Libraries imported!')"
      ],
      "metadata": {
        "colab": {
          "base_uri": "https://localhost:8080/"
        },
        "id": "xYnO1BtMZkxv",
        "outputId": "9885c45b-bfb2-4f5b-d060-77da6bf2e235"
      },
      "execution_count": 15,
      "outputs": [
        {
          "output_type": "stream",
          "name": "stdout",
          "text": [
            "\n",
            "1. Libraries imported!\n"
          ]
        }
      ]
    },
    {
      "cell_type": "code",
      "source": [
        "#                                             Data Reading / Parsing\n",
        "#------------------------------------------------------------------\n",
        "# Reading the data inside the xml\n",
        "data_path = 'full_db.xml'\n",
        "with open(data_path, 'r', encoding=\"utf8\") as f:\n",
        "\tdata = f.read()\n",
        "\n",
        "# Passing the stored data inside, the beautifulsoup parser, storing the returned object\n",
        "raw_data = BeautifulSoup(data, \"xml\")\n",
        "\n",
        "# Reading the number of records in file\n",
        "rec_count = raw_data.find('adb_entry_count')\n",
        "r_c = rec_count.get('count')\n",
        "print('\\n2. Total records in this file: ', r_c)\n",
        "\n",
        "# Creating the array of objects (records)\n",
        "v_records = raw_data.find_all('adb_entry')\n"
      ],
      "metadata": {
        "colab": {
          "base_uri": "https://localhost:8080/"
        },
        "id": "EIWGMjAzZ1st",
        "outputId": "c05a7537-916e-469d-fbda-ad6a8a324cce"
      },
      "execution_count": 16,
      "outputs": [
        {
          "output_type": "stream",
          "name": "stdout",
          "text": [
            "\n",
            "2. Total records in this file:  69230\n"
          ]
        }
      ]
    },
    {
      "cell_type": "code",
      "source": [
        "#                                   Data Mining (Extraction of x, y)\n",
        "#------------------------------------------------------------------\n",
        "input_feat = [] # Lista que contendra input features de cada record (x)\n",
        "output_feat = [] # Contendra la lista de categorias y eventos (y)\n",
        "\n",
        "def extractor(v_records):\n",
        "    \n",
        "    for record in v_records:  # v_records contiene la lista de Records   \n",
        "        x_i = {} # This list will store the X values\n",
        "        y_o = {} # This list will store the Y values\n",
        "        \n",
        "        # Record ID extraction\n",
        "        v_entry_val = record.get('adb_id')\n",
        "            \n",
        "        # Gender extraction     \n",
        "        v_gen_val = record.find('gender') \n",
        "        v_sex_val = v_gen_val.get('csex').capitalize()\n",
        "                \n",
        "        # Rating extraction\n",
        "        v_rating_val = record.find('roddenrating').text\n",
        "           \n",
        "        # Data type extraction\n",
        "        v_dtype = record.find('datatype')\n",
        "        v_dtype_val = v_dtype.get('dtc')\n",
        "        \n",
        "        # Add only individuals, known or anonymous\n",
        "        if int(v_dtype_val) > 4:\n",
        "            continue\n",
        "        \n",
        "        # Birth date details extraction\n",
        "        v_dob = record.find('sbdate')\n",
        "        v_dob_val = v_dob.get('iday')\n",
        "        v_mob_val = v_dob.get('imonth')\n",
        "        v_yob_val = v_dob.get('iyear')\n",
        "       \n",
        "        # Time of birth extraction\n",
        "        v_tob_val = record.find('sbtime').text #String\n",
        "                \n",
        "        # Converting time var into object\n",
        "        try:\n",
        "            t_obj = datetime.strptime(v_tob_val, '%H:%M')\n",
        "        except ValueError as e:\n",
        "            if e == ValueError:\n",
        "                t_obj = datetime.strptime(v_tob_val, '%H:%M:%S')                 \n",
        "            else:\n",
        "                t_obj = datetime.strptime('12:00', '%H:%M')    \n",
        "                              \n",
        "                \n",
        "        # Splitting Time into Hours:Minutes format\n",
        "        hour = datetime.strftime(t_obj, \"%H\")\n",
        "        minute = datetime.strftime(t_obj, \"%M\")\n",
        "        \n",
        "        #print(t_obj, 'id: ', v_entry_val)\n",
        "                \n",
        "        # Place of birth extraction\n",
        "        v_pob_val = record.find('place').text\n",
        "        v_cob_val = record.find('country').text\n",
        "        \n",
        "        # Astrological Positions\n",
        "        v_pos = record.find('positions')\n",
        "        v_asc_val = v_pos.get('asc_sign')\n",
        "        v_moon_val = v_pos.get('moon_sign')\n",
        "        v_sun_val = v_pos.get('sun_sign')\n",
        "       \n",
        "        # Grouping all the data for each record\n",
        "        x_i['ID'] = (v_entry_val)\n",
        "        y_o['ID'] = (v_entry_val)\n",
        "        \n",
        "        x_i['Gender'] = (v_sex_val)\n",
        "        \n",
        "        #x_i['Type'] = (v_dtype_val)\n",
        "        \n",
        "        x_i['Day'] = (v_dob_val) # DOB\n",
        "        x_i['Month'] = (v_mob_val)\n",
        "        x_i['Year'] = (v_yob_val)\n",
        "        \n",
        "        x_i['Hour'] = (hour) # Hour of birth\n",
        "        x_i['Minute'] = (minute) # Minute of birth\n",
        "        x_i['City'] = (v_pob_val) # City\n",
        "        x_i['Country'] = (v_cob_val) # Country\n",
        "        \n",
        "        x_i['ASC'] = str(v_asc_val) # Ascendant sign\n",
        "        x_i['Moon'] = str(v_moon_val) # Moon sign\n",
        "        x_i['Sun'] = str(v_sun_val) # Sun sign\n",
        "        \n",
        "        # Reading the number of categories in record (internal)\n",
        "        cats = record.find('categories')    \n",
        "        #cat_count = cats.get('count')\n",
        "        #print ('\\nCategories found: ', cat_count)\n",
        "               \n",
        "        # Reading the number of events in record (internal)\n",
        "        v_events = record.find_all('event') \n",
        "        #event_count = len(v_events)\n",
        "        #print ('\\nTotal events found: ', event_count)\n",
        "        \n",
        "        # Filtering the rating of accuracy of records\n",
        "        if v_rating_val == 'AA' or 'A' or 'B': \n",
        "            \n",
        "            c_l = []\n",
        "            \n",
        "            # Categories Extraction\n",
        "            v_cat = cats.find_all(attrs={'adb_id' : v_entry_val})            \n",
        "            for c, v_cat_id in enumerate(v_cat):\n",
        "                v_id = v_cat_id.get('cat_id')\n",
        "                c_l.append(int(v_id))\n",
        "            \n",
        "            y_o['cat'] = c_l\n",
        "                \n",
        "            e_l = []\n",
        "            \n",
        "            # Events Extraction            \n",
        "            for e, event in enumerate(v_events):\n",
        "                v_event_id = event.get('evn_id')\n",
        "                e_l.append(int(v_event_id))\n",
        "            \n",
        "            y_o['eve'] = e_l                     \n",
        "            \n",
        "           \n",
        "            input_feat.append(x_i)\n",
        "            \n",
        "            output_feat.append(y_o)    \n",
        "            \n",
        "        continue\n",
        "    \n",
        "       \n",
        "extractor(v_records)\n",
        "print('Features Extracted!')\n"
      ],
      "metadata": {
        "colab": {
          "base_uri": "https://localhost:8080/"
        },
        "id": "sPwqyEENdzQS",
        "outputId": "a6bb2390-65c8-46cc-b19f-0d36a1eb5928"
      },
      "execution_count": 17,
      "outputs": [
        {
          "output_type": "stream",
          "name": "stdout",
          "text": [
            "Features Extracted!\n"
          ]
        }
      ]
    },
    {
      "cell_type": "code",
      "source": [
        "#                                                 DataFrame for X \n",
        "#------------------------------------------------------------------    \n",
        "astro_x_table = pd.DataFrame(input_feat)\n",
        "print(astro_x_table)\n",
        "\n",
        "rec_count = len(input_feat)-1\n",
        "print('\\n     Total of valid records: ', rec_count)"
      ],
      "metadata": {
        "colab": {
          "base_uri": "https://localhost:8080/"
        },
        "id": "IFJ3yQFRjwJw",
        "outputId": "29eeb3ae-6f78-4de4-e0dd-56fa07fe237d"
      },
      "execution_count": 18,
      "outputs": [
        {
          "output_type": "stream",
          "name": "stdout",
          "text": [
            "          ID Gender Day Month  Year Hour Minute               City  \\\n",
            "0          1      M  12     9  1494   22     00             Cognac   \n",
            "1          2      M  24     9  1501   18     29              Pavia   \n",
            "2          3      F  13     4  1519   05     45           Florence   \n",
            "3          4      M  20     7  1529   01     21             London   \n",
            "4          5      F   7     9  1533   14     54          Greenwich   \n",
            "...      ...    ...  ..   ...   ...  ...    ...                ...   \n",
            "66708  95318      F  29    11  1988   14     03        Morrisville   \n",
            "66709  95319      F  17     5  1994   18     32              Poway   \n",
            "66710  95320      F  10     7  1997   07     58  Neuilly sur Seine   \n",
            "66711  95321      F  28    12  1963   14     50               Agen   \n",
            "66712  95322      M   7     1  1945   11     47             Maseno   \n",
            "\n",
            "          Country  ASC Moon  Sun  \n",
            "0          France  gem  aqu  vir  \n",
            "1           Italy  tau  pis  lib  \n",
            "2           Italy  tau  lib  tau  \n",
            "3         England  can  cap  leo  \n",
            "4         England  cap  tau  vir  \n",
            "...           ...  ...  ...  ...  \n",
            "66708     Vermont  ari  leo  sag  \n",
            "66709  California  sco  leo  tau  \n",
            "66710      France  leo  vir  can  \n",
            "66711      France  tau  gem  cap  \n",
            "66712       Kenya  ari  lib  cap  \n",
            "\n",
            "[66713 rows x 12 columns]\n",
            "\n",
            "     Total of valid records:  66712\n"
          ]
        }
      ]
    },
    {
      "cell_type": "code",
      "source": [
        "#                                                Data Frame for Y \n",
        "#------------------------------------------------------------------    \n",
        "# Creating the Y dataframe\n",
        "astro_y_table = pd.DataFrame(output_feat)\n",
        "print(astro_y_table)\n",
        "\n",
        "print ('\\n3. Astro dataframes X, Y extracted...')"
      ],
      "metadata": {
        "colab": {
          "base_uri": "https://localhost:8080/"
        },
        "id": "bNHE8OL8j4hm",
        "outputId": "0250e40f-cc6f-4ceb-80c4-3db81231bf7b"
      },
      "execution_count": 19,
      "outputs": [
        {
          "output_type": "stream",
          "name": "stdout",
          "text": [
            "          ID                                                cat  \\\n",
            "0          1                                   [1928, 262, 151]   \n",
            "1          2                [210, 267, 469, 483, 622, 619, 633]   \n",
            "2          3                      [86, 190, 196, 198, 151, 631]   \n",
            "3          4                                         [144, 208]   \n",
            "4          5  [1, 7, 84, 994, 2906, 52, 152, 1023, 189, 207,...   \n",
            "...      ...                                                ...   \n",
            "66708  95318                                   [149, 2960, 547]   \n",
            "66709  95319                              [176, 177, 4014, 483]   \n",
            "66710  95320                                              [340]   \n",
            "66711  95321                                              [399]   \n",
            "66712  95322                    [149, 193, 198, 208, 496, 2953]   \n",
            "\n",
            "                   eve  \n",
            "0                [771]  \n",
            "1           [794, 771]  \n",
            "2      [810, 820, 766]  \n",
            "3                [771]  \n",
            "4      [796, 991, 771]  \n",
            "...                ...  \n",
            "66708               []  \n",
            "66709            [992]  \n",
            "66710               []  \n",
            "66711               []  \n",
            "66712               []  \n",
            "\n",
            "[66713 rows x 3 columns]\n",
            "\n",
            "3. Astro dataframes X, Y extracted...\n"
          ]
        }
      ]
    },
    {
      "cell_type": "code",
      "source": [
        "#------------------------------------------------------------------\n",
        "# Creation of CSV files of data sets\n",
        "\n",
        "print('\\n     Creating CSV files, please wait...')\n",
        "\n",
        "astro_x_table.to_csv('X_data.csv', index = True) # CSV file of X dataset\n",
        "astro_y_table.to_csv('y_data.csv', index = True) # CSV file of y dataset\n",
        "\n",
        "print('\\n     CSV Files created succesfully!')\n",
        "\n",
        "print ('\\n4. Astro dataframes X, Y ready for trining: ')\n",
        "\n",
        "\n",
        "end = datetime.now()\n",
        "t_elapsed= end-start\n",
        "\n",
        "print ('\\nTotal time for pre-processing: ', t_elapsed)\n",
        "print('')\n",
        "print ('\\nEnd of process.')\n",
        "\n",
        "#------------------------------------------------------------------\n",
        "__author__ = 'Paola Montoya 2021'"
      ],
      "metadata": {
        "colab": {
          "base_uri": "https://localhost:8080/"
        },
        "id": "drcwtYvJkOsq",
        "outputId": "97fabade-1792-4c44-b1cd-1d591253fd31"
      },
      "execution_count": 20,
      "outputs": [
        {
          "output_type": "stream",
          "name": "stdout",
          "text": [
            "\n",
            "     Creating CSV files, please wait...\n",
            "\n",
            "     CSV Files created succesfully!\n",
            "\n",
            "4. Astro dataframes X, Y ready for trining: \n",
            "\n",
            "Total time for pre-processing:  0:03:36.363775\n",
            "\n",
            "\n",
            "End of process.\n"
          ]
        }
      ]
    }
  ]
}